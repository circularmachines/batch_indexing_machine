{
  "cells": [
    {
      "cell_type": "markdown",
      "metadata": {
        "id": "view-in-github",
        "colab_type": "text"
      },
      "source": [
        "<a href=\"https://colab.research.google.com/github/circularmachines/batch_indexing_machine/blob/main/Create_dataset.ipynb\" target=\"_parent\"><img src=\"https://colab.research.google.com/assets/colab-badge.svg\" alt=\"Open In Colab\"/></a>"
      ]
    },
    {
      "cell_type": "markdown",
      "source": [
        "# Create Dataset\n",
        "\n",
        "In this notebook takes care of the following tasks.\n",
        "\n",
        "1. downloads .mov files from huggingface.co\n",
        "2. extract and crop frames and save as .jpg\n",
        "3. perform a controlled shuffle of the files\n",
        "4. upload files as dataset back to huggingface.co"
      ],
      "metadata": {
        "id": "5j79KoBcvd01"
      }
    },
    {
      "cell_type": "code",
      "execution_count": null,
      "metadata": {
        "id": "4TQJ_ZElCDwl",
        "colab": {
          "base_uri": "https://localhost:8080/"
        },
        "outputId": "478c0715-a67d-4123-9fc1-da8b9efd05d2"
      },
      "outputs": [
        {
          "output_type": "stream",
          "name": "stdout",
          "text": [
            "Looking in indexes: https://pypi.org/simple, https://us-python.pkg.dev/colab-wheels/public/simple/\n",
            "Requirement already satisfied: transformers in /usr/local/lib/python3.10/dist-packages (4.30.2)\n",
            "Requirement already satisfied: datasets in /usr/local/lib/python3.10/dist-packages (2.13.0)\n",
            "Requirement already satisfied: filelock in /usr/local/lib/python3.10/dist-packages (from transformers) (3.12.0)\n",
            "Requirement already satisfied: huggingface-hub<1.0,>=0.14.1 in /usr/local/lib/python3.10/dist-packages (from transformers) (0.15.1)\n",
            "Requirement already satisfied: numpy>=1.17 in /usr/local/lib/python3.10/dist-packages (from transformers) (1.22.4)\n",
            "Requirement already satisfied: packaging>=20.0 in /usr/local/lib/python3.10/dist-packages (from transformers) (23.1)\n",
            "Requirement already satisfied: pyyaml>=5.1 in /usr/local/lib/python3.10/dist-packages (from transformers) (6.0)\n",
            "Requirement already satisfied: regex!=2019.12.17 in /usr/local/lib/python3.10/dist-packages (from transformers) (2022.10.31)\n",
            "Requirement already satisfied: requests in /usr/local/lib/python3.10/dist-packages (from transformers) (2.27.1)\n",
            "Requirement already satisfied: tokenizers!=0.11.3,<0.14,>=0.11.1 in /usr/local/lib/python3.10/dist-packages (from transformers) (0.13.3)\n",
            "Requirement already satisfied: safetensors>=0.3.1 in /usr/local/lib/python3.10/dist-packages (from transformers) (0.3.1)\n",
            "Requirement already satisfied: tqdm>=4.27 in /usr/local/lib/python3.10/dist-packages (from transformers) (4.65.0)\n",
            "Requirement already satisfied: pyarrow>=8.0.0 in /usr/local/lib/python3.10/dist-packages (from datasets) (9.0.0)\n",
            "Requirement already satisfied: dill<0.3.7,>=0.3.0 in /usr/local/lib/python3.10/dist-packages (from datasets) (0.3.6)\n",
            "Requirement already satisfied: pandas in /usr/local/lib/python3.10/dist-packages (from datasets) (1.5.3)\n",
            "Requirement already satisfied: xxhash in /usr/local/lib/python3.10/dist-packages (from datasets) (3.2.0)\n",
            "Requirement already satisfied: multiprocess in /usr/local/lib/python3.10/dist-packages (from datasets) (0.70.14)\n",
            "Requirement already satisfied: fsspec[http]>=2021.11.1 in /usr/local/lib/python3.10/dist-packages (from datasets) (2023.4.0)\n",
            "Requirement already satisfied: aiohttp in /usr/local/lib/python3.10/dist-packages (from datasets) (3.8.4)\n",
            "Requirement already satisfied: attrs>=17.3.0 in /usr/local/lib/python3.10/dist-packages (from aiohttp->datasets) (23.1.0)\n",
            "Requirement already satisfied: charset-normalizer<4.0,>=2.0 in /usr/local/lib/python3.10/dist-packages (from aiohttp->datasets) (2.0.12)\n",
            "Requirement already satisfied: multidict<7.0,>=4.5 in /usr/local/lib/python3.10/dist-packages (from aiohttp->datasets) (6.0.4)\n",
            "Requirement already satisfied: async-timeout<5.0,>=4.0.0a3 in /usr/local/lib/python3.10/dist-packages (from aiohttp->datasets) (4.0.2)\n",
            "Requirement already satisfied: yarl<2.0,>=1.0 in /usr/local/lib/python3.10/dist-packages (from aiohttp->datasets) (1.9.2)\n",
            "Requirement already satisfied: frozenlist>=1.1.1 in /usr/local/lib/python3.10/dist-packages (from aiohttp->datasets) (1.3.3)\n",
            "Requirement already satisfied: aiosignal>=1.1.2 in /usr/local/lib/python3.10/dist-packages (from aiohttp->datasets) (1.3.1)\n",
            "Requirement already satisfied: typing-extensions>=3.7.4.3 in /usr/local/lib/python3.10/dist-packages (from huggingface-hub<1.0,>=0.14.1->transformers) (4.5.0)\n",
            "Requirement already satisfied: urllib3<1.27,>=1.21.1 in /usr/local/lib/python3.10/dist-packages (from requests->transformers) (1.26.15)\n",
            "Requirement already satisfied: certifi>=2017.4.17 in /usr/local/lib/python3.10/dist-packages (from requests->transformers) (2022.12.7)\n",
            "Requirement already satisfied: idna<4,>=2.5 in /usr/local/lib/python3.10/dist-packages (from requests->transformers) (3.4)\n",
            "Requirement already satisfied: python-dateutil>=2.8.1 in /usr/local/lib/python3.10/dist-packages (from pandas->datasets) (2.8.2)\n",
            "Requirement already satisfied: pytz>=2020.1 in /usr/local/lib/python3.10/dist-packages (from pandas->datasets) (2022.7.1)\n",
            "Requirement already satisfied: six>=1.5 in /usr/local/lib/python3.10/dist-packages (from python-dateutil>=2.8.1->pandas->datasets) (1.16.0)\n",
            "Looking in indexes: https://pypi.org/simple, https://us-python.pkg.dev/colab-wheels/public/simple/\n",
            "Requirement already satisfied: huggingface_hub in /usr/local/lib/python3.10/dist-packages (0.15.1)\n",
            "Requirement already satisfied: filelock in /usr/local/lib/python3.10/dist-packages (from huggingface_hub) (3.12.0)\n",
            "Requirement already satisfied: fsspec in /usr/local/lib/python3.10/dist-packages (from huggingface_hub) (2023.4.0)\n",
            "Requirement already satisfied: requests in /usr/local/lib/python3.10/dist-packages (from huggingface_hub) (2.27.1)\n",
            "Requirement already satisfied: tqdm>=4.42.1 in /usr/local/lib/python3.10/dist-packages (from huggingface_hub) (4.65.0)\n",
            "Requirement already satisfied: pyyaml>=5.1 in /usr/local/lib/python3.10/dist-packages (from huggingface_hub) (6.0)\n",
            "Requirement already satisfied: typing-extensions>=3.7.4.3 in /usr/local/lib/python3.10/dist-packages (from huggingface_hub) (4.5.0)\n",
            "Requirement already satisfied: packaging>=20.9 in /usr/local/lib/python3.10/dist-packages (from huggingface_hub) (23.1)\n",
            "Requirement already satisfied: urllib3<1.27,>=1.21.1 in /usr/local/lib/python3.10/dist-packages (from requests->huggingface_hub) (1.26.15)\n",
            "Requirement already satisfied: certifi>=2017.4.17 in /usr/local/lib/python3.10/dist-packages (from requests->huggingface_hub) (2022.12.7)\n",
            "Requirement already satisfied: charset-normalizer~=2.0.0 in /usr/local/lib/python3.10/dist-packages (from requests->huggingface_hub) (2.0.12)\n",
            "Requirement already satisfied: idna<4,>=2.5 in /usr/local/lib/python3.10/dist-packages (from requests->huggingface_hub) (3.4)\n"
          ]
        }
      ],
      "source": [
        "! pip install transformers datasets\n",
        "! pip install huggingface_hub"
      ]
    },
    {
      "cell_type": "code",
      "execution_count": null,
      "metadata": {
        "colab": {
          "base_uri": "https://localhost:8080/",
          "height": 387,
          "referenced_widgets": [
            "62ef39ad3e4a48ba834a376583928979",
            "bee9cf890d50466681777059d3064518",
            "dfccfbcaa237451c8aaef0ad71287895",
            "e80cb0641e7949c59c51186f85f7eb7f",
            "2c6fc04db03a46e4a1035782d31885d0",
            "0b3b93e029604d82a9daf63ae5745714",
            "3b2ff29e88a04070ab6014832936b0b4",
            "e745474126d04674b505820c6796fd82",
            "06ecff41161246b49111f043216f0e40",
            "8f555fd30fac430d99c635df45e88504",
            "f603839aeedf47d6b2304fc9d3c3bbb1",
            "74be435d4f98473bafe4dd00f167120b",
            "30e7ceff91d34ad29e3afddc0ef7b9d3",
            "5173b4600a394739a0b4b8ff0eb9889f",
            "c8db9689f6434a9f9f32e08e0eb95330",
            "ab7263c8fa964db38ad7f41f73e1863b",
            "5ad8ce8c6c264e4997dbcef14d76d63f"
          ]
        },
        "id": "qNzMkTUu2aDJ",
        "outputId": "7a455c42-b420-45fa-ddd3-09d875a4ec79"
      },
      "outputs": [
        {
          "output_type": "display_data",
          "data": {
            "text/plain": [
              "VBox(children=(HTML(value='<center> <img\\nsrc=https://huggingface.co/front/assets/huggingface_logo-noborder.sv\u2026"
            ],
            "application/vnd.jupyter.widget-view+json": {
              "version_major": 2,
              "version_minor": 0,
              "model_id": "62ef39ad3e4a48ba834a376583928979"
            }
          },
          "metadata": {}
        }
      ],
      "source": [
        "from huggingface_hub import notebook_login\n",
        "notebook_login()"
      ]
    },
    {
      "cell_type": "code",
      "execution_count": null,
      "metadata": {
        "colab": {
          "base_uri": "https://localhost:8080/"
        },
        "id": "ohJmurC7W96a",
        "outputId": "3897d4b9-7640-4e6b-b4e6-5049755e0cff"
      },
      "outputs": [
        {
          "output_type": "execute_result",
          "data": {
            "text/plain": [
              "['.gitattributes',\n",
              " '230529/2023-05-29 10-48-51 REMW 3200x2400 24fps.mov',\n",
              " '230529/2023-05-29 11-09-04 NDLD 3200x2400 24fps.mov',\n",
              " '230529/2023-05-29 11-10-10 NJCZ 3200x2400 24fps.mov',\n",
              " '230529/2023-05-29 11-11-15 NJC3 3200x2400 24fps.mov',\n",
              " '230529/2023-05-29 11-12-14 M0I3 3200x2400 24fps.mov',\n",
              " '230529/2023-05-29 11-13-07 QUI5 3200x2400 24fps.mov',\n",
              " '230529/2023-05-29 11-14-03 N0E4 3200x2400 24fps.mov',\n",
              " '230529/2023-05-29 11-15-01 ODZF 3200x2400 24fps.mov',\n",
              " '230529/2023-05-29 11-16-03 REE2 3200x2400 24fps.mov',\n",
              " '230529/2023-05-29 11-17-59 N0JD 3200x2400 24fps.mov',\n",
              " '230529/2023-05-29 11-18-59 NKNG 3200x2400 24fps.mov',\n",
              " '230529/2023-05-29 11-19-54 QKIW 3200x2400 24fps.mov',\n",
              " '230529/2023-05-29 11-20-55 NTCW 3200x2400 24fps.mov',\n",
              " '230529/2023-05-29 11-21-52 RDCY 3200x2400 24fps.mov',\n",
              " '230529/2023-05-29 11-22-56 QKM2 3200x2400 24fps.mov',\n",
              " '230529/2023-05-29 11-24-24 QZU2 3200x2400 24fps.mov',\n",
              " '230529/2023-05-29 11-25-31 NKEZ 3200x2400 24fps.mov',\n",
              " '230529/2023-05-29 11-26-36 Q0YW 3200x2400 24fps.mov',\n",
              " '230529/2023-05-29 11-27-45 NDI3 3200x2400 24fps.mov',\n",
              " '230529/2023-05-29 11-29-15 NZQX 3200x2400 24fps.mov',\n",
              " '230614/2023-06-14 10-28-19 OTG0 3200x2400 24fps.mov',\n",
              " '230614/2023-06-14 10-35-55 NTRG 3200x2400 24fps.mov',\n",
              " '230614/2023-06-14 10-36-51 NTA2 3200x2400 24fps.mov',\n",
              " '230614/2023-06-14 10-41-50 MUQ1 3200x2400 24fps.mov',\n",
              " '230614/2023-06-14 10-42-46 NEIW 3200x2400 24fps.mov',\n",
              " '230614/2023-06-14 10-43-40 RTU3 3200x2400 24fps.mov',\n",
              " '230614/2023-06-14 10-44-37 QTEY 3200x2400 24fps.mov',\n",
              " '230614/2023-06-14 10-45-35 RKU0 3200x2400 24fps.mov',\n",
              " '230614/2023-06-14 10-46-32 RTA0 3200x2400 24fps.mov',\n",
              " '230614/2023-06-14 10-47-37 MZCZ 3200x2400 24fps.mov',\n",
              " '230614/2023-06-14 10-48-37 QUU3 3200x2400 24fps.mov',\n",
              " '230614/2023-06-14 10-49-41 REI2 3200x2400 24fps.mov',\n",
              " '230614/2023-06-14 10-50-41 OTVG 3200x2400 24fps.mov',\n",
              " '230614/2023-06-14 10-51-38 NKM0 3200x2400 24fps.mov',\n",
              " '230614/2023-06-14 10-52-32 RDDE 3200x2400 24fps.mov',\n",
              " '230614/2023-06-14 10-53-22 NUY0 3200x2400 24fps.mov',\n",
              " '230614/2023-06-14 10-54-30 NTI5 3200x2400 24fps.mov',\n",
              " '230614/2023-06-14 10-55-22 OEZC 3200x2400 24fps.mov',\n",
              " '230614/2023-06-14 10-56-28 QZHE 3200x2400 24fps.mov',\n",
              " '230614/2023-06-14 10-57-45 OURC 3200x2400 24fps.mov',\n",
              " '230614/2023-06-14 10-58-41 RJJE 3200x2400 24fps.mov',\n",
              " 'README.md']"
            ]
          },
          "metadata": {},
          "execution_count": 3
        }
      ],
      "source": [
        "\n",
        "from huggingface_hub import hf_hub_download\n",
        "from huggingface_hub import HfApi\n",
        "api = HfApi()\n",
        "list_files=api.list_repo_files(repo_id=\"Circularmachines/batch_indexing_machine_movs\", repo_type=\"dataset\")\n",
        "list_files"
      ]
    },
    {
      "cell_type": "code",
      "source": [
        "\n",
        "mov_files=[a for a in list_files if '230614/2023-06-14' in a]  # We only want the videos from this date.\n",
        "\n",
        "file_names=[]\n",
        "for m in mov_files:\n",
        "  file_names.append(hf_hub_download(repo_id=\"Circularmachines/batch_indexing_machine_movs\", repo_type=\"dataset\", filename=m))"
      ],
      "metadata": {
        "id": "7ntF4fVgnGAS"
      },
      "execution_count": null,
      "outputs": []
    },
    {
      "cell_type": "code",
      "execution_count": null,
      "metadata": {
        "colab": {
          "base_uri": "https://localhost:8080/"
        },
        "id": "2NBoowUlDafO",
        "outputId": "9da7316a-dba5-450e-cb8b-4e190bae9dcf"
      },
      "outputs": [
        {
          "output_type": "execute_result",
          "data": {
            "text/plain": [
              "['/root/.cache/huggingface/hub/datasets--Circularmachines--batch_indexing_machine_movs/snapshots/7137618062de9cf0d1ac0ed80773b23345132af7/230614/2023-06-14 10-28-19 OTG0 3200x2400 24fps.mov',\n",
              " '/root/.cache/huggingface/hub/datasets--Circularmachines--batch_indexing_machine_movs/snapshots/7137618062de9cf0d1ac0ed80773b23345132af7/230614/2023-06-14 10-35-55 NTRG 3200x2400 24fps.mov',\n",
              " '/root/.cache/huggingface/hub/datasets--Circularmachines--batch_indexing_machine_movs/snapshots/7137618062de9cf0d1ac0ed80773b23345132af7/230614/2023-06-14 10-36-51 NTA2 3200x2400 24fps.mov',\n",
              " '/root/.cache/huggingface/hub/datasets--Circularmachines--batch_indexing_machine_movs/snapshots/7137618062de9cf0d1ac0ed80773b23345132af7/230614/2023-06-14 10-41-50 MUQ1 3200x2400 24fps.mov',\n",
              " '/root/.cache/huggingface/hub/datasets--Circularmachines--batch_indexing_machine_movs/snapshots/7137618062de9cf0d1ac0ed80773b23345132af7/230614/2023-06-14 10-42-46 NEIW 3200x2400 24fps.mov',\n",
              " '/root/.cache/huggingface/hub/datasets--Circularmachines--batch_indexing_machine_movs/snapshots/7137618062de9cf0d1ac0ed80773b23345132af7/230614/2023-06-14 10-43-40 RTU3 3200x2400 24fps.mov',\n",
              " '/root/.cache/huggingface/hub/datasets--Circularmachines--batch_indexing_machine_movs/snapshots/7137618062de9cf0d1ac0ed80773b23345132af7/230614/2023-06-14 10-44-37 QTEY 3200x2400 24fps.mov',\n",
              " '/root/.cache/huggingface/hub/datasets--Circularmachines--batch_indexing_machine_movs/snapshots/7137618062de9cf0d1ac0ed80773b23345132af7/230614/2023-06-14 10-45-35 RKU0 3200x2400 24fps.mov',\n",
              " '/root/.cache/huggingface/hub/datasets--Circularmachines--batch_indexing_machine_movs/snapshots/7137618062de9cf0d1ac0ed80773b23345132af7/230614/2023-06-14 10-46-32 RTA0 3200x2400 24fps.mov',\n",
              " '/root/.cache/huggingface/hub/datasets--Circularmachines--batch_indexing_machine_movs/snapshots/7137618062de9cf0d1ac0ed80773b23345132af7/230614/2023-06-14 10-47-37 MZCZ 3200x2400 24fps.mov',\n",
              " '/root/.cache/huggingface/hub/datasets--Circularmachines--batch_indexing_machine_movs/snapshots/7137618062de9cf0d1ac0ed80773b23345132af7/230614/2023-06-14 10-48-37 QUU3 3200x2400 24fps.mov',\n",
              " '/root/.cache/huggingface/hub/datasets--Circularmachines--batch_indexing_machine_movs/snapshots/7137618062de9cf0d1ac0ed80773b23345132af7/230614/2023-06-14 10-49-41 REI2 3200x2400 24fps.mov',\n",
              " '/root/.cache/huggingface/hub/datasets--Circularmachines--batch_indexing_machine_movs/snapshots/7137618062de9cf0d1ac0ed80773b23345132af7/230614/2023-06-14 10-50-41 OTVG 3200x2400 24fps.mov',\n",
              " '/root/.cache/huggingface/hub/datasets--Circularmachines--batch_indexing_machine_movs/snapshots/7137618062de9cf0d1ac0ed80773b23345132af7/230614/2023-06-14 10-51-38 NKM0 3200x2400 24fps.mov',\n",
              " '/root/.cache/huggingface/hub/datasets--Circularmachines--batch_indexing_machine_movs/snapshots/7137618062de9cf0d1ac0ed80773b23345132af7/230614/2023-06-14 10-52-32 RDDE 3200x2400 24fps.mov',\n",
              " '/root/.cache/huggingface/hub/datasets--Circularmachines--batch_indexing_machine_movs/snapshots/7137618062de9cf0d1ac0ed80773b23345132af7/230614/2023-06-14 10-53-22 NUY0 3200x2400 24fps.mov',\n",
              " '/root/.cache/huggingface/hub/datasets--Circularmachines--batch_indexing_machine_movs/snapshots/7137618062de9cf0d1ac0ed80773b23345132af7/230614/2023-06-14 10-54-30 NTI5 3200x2400 24fps.mov',\n",
              " '/root/.cache/huggingface/hub/datasets--Circularmachines--batch_indexing_machine_movs/snapshots/7137618062de9cf0d1ac0ed80773b23345132af7/230614/2023-06-14 10-55-22 OEZC 3200x2400 24fps.mov',\n",
              " '/root/.cache/huggingface/hub/datasets--Circularmachines--batch_indexing_machine_movs/snapshots/7137618062de9cf0d1ac0ed80773b23345132af7/230614/2023-06-14 10-56-28 QZHE 3200x2400 24fps.mov',\n",
              " '/root/.cache/huggingface/hub/datasets--Circularmachines--batch_indexing_machine_movs/snapshots/7137618062de9cf0d1ac0ed80773b23345132af7/230614/2023-06-14 10-57-45 OURC 3200x2400 24fps.mov',\n",
              " '/root/.cache/huggingface/hub/datasets--Circularmachines--batch_indexing_machine_movs/snapshots/7137618062de9cf0d1ac0ed80773b23345132af7/230614/2023-06-14 10-58-41 RJJE 3200x2400 24fps.mov']"
            ]
          },
          "metadata": {},
          "execution_count": 5
        }
      ],
      "source": [
        "file_names"
      ]
    },
    {
      "cell_type": "code",
      "execution_count": null,
      "metadata": {
        "id": "AXEdLhuAW7nA"
      },
      "outputs": [],
      "source": [
        "import numpy as np\n",
        "import cv2\n",
        "import os"
      ]
    },
    {
      "cell_type": "code",
      "execution_count": null,
      "metadata": {
        "id": "aFfbytt59D7Y"
      },
      "outputs": [],
      "source": [
        "\n",
        "def mov2imgs(path, dir, center, crop_size, zoom):\n",
        "\n",
        "  vidcap = cv2.VideoCapture(path)\n",
        "  success,image = vidcap.read() #get first frame\n",
        "\n",
        "  crop=crop_size//2\n",
        "\n",
        "  img_count=0\n",
        "\n",
        "  while img_count<(30*24):  #limit to 30 seconds per video\n",
        "\n",
        "    if (img_count%100)==0:\n",
        "      print(img_count, \" of 720\")\n",
        "\n",
        "    #the first video was rotated differently than the othe ones, so I need to do this hack\n",
        "    if dir=='img_dir/train/000_':\n",
        "      image = cv2.rotate(image, cv2.ROTATE_90_COUNTERCLOCKWISE)\n",
        "\n",
        "\n",
        "    image=image[center[0]-crop:center[0]+crop,center[1]-crop:center[1]+crop,:] #crop image\n",
        "    image=image[::zoom,::zoom,:]    #resize image\n",
        "\n",
        "\n",
        "    cv2.imwrite(dir+str(img_count).zfill(5)+'.jpg',image) #save image\n",
        "\n",
        "    success,image = vidcap.read() #get next frame\n",
        "\n",
        "    img_count+=1\n"
      ]
    },
    {
      "cell_type": "code",
      "source": [],
      "metadata": {
        "id": "PcnCodCMfChG"
      },
      "execution_count": null,
      "outputs": []
    },
    {
      "cell_type": "code",
      "source": [
        "os.makedirs('img_dir/train/')\n",
        "for i in range(len(file_names)):\n",
        "  print(\"batch number:\",i)\n",
        "  mov2imgs(path=file_names[i], dir='img_dir/train/'+str(i).zfill(3)+'_', center=(1580,1280), crop_size=2048+128, zoom=2)\n"
      ],
      "metadata": {
        "id": "Xkwkpk6BM5la",
        "colab": {
          "base_uri": "https://localhost:8080/"
        },
        "outputId": "24418e03-24ac-4ce2-83c4-2fc8d79f39d4"
      },
      "execution_count": null,
      "outputs": [
        {
          "output_type": "stream",
          "name": "stdout",
          "text": [
            "0\n",
            "0\n",
            "100\n",
            "200\n",
            "300\n",
            "400\n",
            "500\n",
            "600\n",
            "700\n",
            "1\n",
            "0\n",
            "100\n",
            "200\n",
            "300\n",
            "400\n",
            "500\n",
            "600\n",
            "700\n",
            "2\n",
            "0\n",
            "100\n",
            "200\n",
            "300\n",
            "400\n",
            "500\n",
            "600\n",
            "700\n",
            "3\n",
            "0\n",
            "100\n",
            "200\n",
            "300\n",
            "400\n",
            "500\n",
            "600\n",
            "700\n",
            "4\n",
            "0\n",
            "100\n",
            "200\n",
            "300\n",
            "400\n",
            "500\n",
            "600\n",
            "700\n",
            "5\n",
            "0\n",
            "100\n",
            "200\n",
            "300\n",
            "400\n",
            "500\n",
            "600\n",
            "700\n",
            "6\n",
            "0\n",
            "100\n",
            "200\n",
            "300\n",
            "400\n",
            "500\n",
            "600\n",
            "700\n",
            "7\n",
            "0\n",
            "100\n",
            "200\n",
            "300\n",
            "400\n",
            "500\n",
            "600\n",
            "700\n",
            "8\n",
            "0\n",
            "100\n",
            "200\n",
            "300\n",
            "400\n",
            "500\n",
            "600\n",
            "700\n",
            "9\n",
            "0\n",
            "100\n",
            "200\n",
            "300\n",
            "400\n",
            "500\n",
            "600\n",
            "700\n",
            "10\n",
            "0\n",
            "100\n",
            "200\n",
            "300\n",
            "400\n",
            "500\n",
            "600\n",
            "700\n",
            "11\n",
            "0\n",
            "100\n",
            "200\n",
            "300\n",
            "400\n",
            "500\n",
            "600\n",
            "700\n",
            "12\n",
            "0\n",
            "100\n",
            "200\n",
            "300\n",
            "400\n",
            "500\n",
            "600\n",
            "700\n",
            "13\n",
            "0\n",
            "100\n",
            "200\n",
            "300\n",
            "400\n",
            "500\n",
            "600\n",
            "700\n",
            "14\n",
            "0\n",
            "100\n",
            "200\n",
            "300\n",
            "400\n",
            "500\n",
            "600\n",
            "700\n",
            "15\n",
            "0\n",
            "100\n",
            "200\n",
            "300\n",
            "400\n",
            "500\n",
            "600\n",
            "700\n",
            "16\n",
            "0\n",
            "100\n",
            "200\n",
            "300\n",
            "400\n",
            "500\n",
            "600\n",
            "700\n",
            "17\n",
            "0\n",
            "100\n",
            "200\n",
            "300\n",
            "400\n",
            "500\n",
            "600\n",
            "700\n",
            "18\n",
            "0\n",
            "100\n",
            "200\n",
            "300\n",
            "400\n",
            "500\n",
            "600\n",
            "700\n",
            "19\n",
            "0\n",
            "100\n",
            "200\n",
            "300\n",
            "400\n",
            "500\n",
            "600\n",
            "700\n",
            "20\n",
            "0\n",
            "100\n",
            "200\n",
            "300\n",
            "400\n",
            "500\n",
            "600\n",
            "700\n"
          ]
        }
      ]
    },
    {
      "cell_type": "code",
      "source": [
        "# copying 20 frames per batch to create a test set, technically it might not be a testset since these frames are in the training set as well...\n",
        "\n",
        "random=[ 50, 163, 183, 212, 223, 249, 254, 314, 333, 371, 376, 393, 476, 482, 483, 523, 560, 579, 583, 608] #20 random numbers 0 < n < 720\n",
        "\n",
        "dir='/content/test_imgs/test/'\n",
        "if not os.path.exists(dir):\n",
        "  os.makedirs(dir)  # creating TFRecords output folder\n",
        "\n",
        "import shutil\n",
        "\n",
        "for i in range(len(file_names)):\n",
        "  for r in random:\n",
        "\n",
        "   shutil.copyfile('img_dir/train/'+str(i).zfill(3)+'_'+str(r).zfill(5)+'.jpg', dir+str(i).zfill(3)+'_'+str(r).zfill(5)+'.jpg')"
      ],
      "metadata": {
        "id": "RNK0D_1ITVS5"
      },
      "execution_count": null,
      "outputs": []
    },
    {
      "cell_type": "code",
      "execution_count": null,
      "metadata": {
        "colab": {
          "base_uri": "https://localhost:8080/"
        },
        "id": "SuP1slBuivoL",
        "outputId": "61030099-db84-487a-d880-26dc79dd43f1"
      },
      "outputs": [
        {
          "output_type": "execute_result",
          "data": {
            "text/plain": [
              "array(['000_00161.jpg', '000_00169.jpg', '013_00578.jpg', '013_00586.jpg',\n",
              "       '002_00150.jpg', '002_00158.jpg', '008_00002.jpg', '008_00010.jpg',\n",
              "       '010_00085.jpg', '010_00093.jpg', '013_00371.jpg', '013_00379.jpg',\n",
              "       '013_00002.jpg', '013_00010.jpg', '003_00705.jpg', '003_00713.jpg',\n",
              "       '011_00358.jpg', '011_00366.jpg', '010_00354.jpg', '010_00362.jpg',\n",
              "       '007_00452.jpg', '007_00460.jpg', '006_00453.jpg', '006_00461.jpg',\n",
              "       '020_00038.jpg', '020_00046.jpg', '008_00676.jpg', '008_00684.jpg',\n",
              "       '019_00406.jpg', '019_00414.jpg', '006_00384.jpg', '006_00392.jpg',\n",
              "       '002_00007.jpg', '002_00015.jpg', '003_00354.jpg', '003_00362.jpg',\n",
              "       '017_00228.jpg', '017_00236.jpg', '003_00375.jpg', '003_00383.jpg',\n",
              "       '004_00117.jpg', '004_00125.jpg', '016_00226.jpg', '016_00234.jpg',\n",
              "       '016_00100.jpg', '016_00108.jpg', '018_00691.jpg', '018_00699.jpg',\n",
              "       '011_00609.jpg', '011_00617.jpg'], dtype='<U13')"
            ]
          },
          "metadata": {},
          "execution_count": 12
        }
      ],
      "source": [
        "listdir=np.sort(os.listdir('img_dir/train'))\n",
        "shuffled=np.random.permutation(listdir.reshape(-1,2,8).transpose((0,2,1)).reshape(-1,2)).flatten()\n",
        "shuffled[0:50]"
      ]
    },
    {
      "cell_type": "code",
      "source": [
        "for i,s in enumerate(shuffled):\n",
        "  os.rename('img_dir/train/'+s,'img_dir/train/'+str(i).zfill(6)+'_'+s)"
      ],
      "metadata": {
        "id": "BJCvwX30hgCd"
      },
      "execution_count": null,
      "outputs": []
    },
    {
      "cell_type": "code",
      "source": [
        "shuffled=np.sort(os.listdir('img_dir/train'))\n",
        "shuffled=[s for s in shuffled if 'jpg' in s]"
      ],
      "metadata": {
        "id": "nBKthkxUiXjP"
      },
      "execution_count": null,
      "outputs": []
    },
    {
      "cell_type": "code",
      "source": [
        "label=[int(a.split('_')[1]) for a in shuffled]\n",
        "label[0:50]"
      ],
      "metadata": {
        "id": "bWgaAn1gasy8"
      },
      "execution_count": null,
      "outputs": []
    },
    {
      "cell_type": "code",
      "source": [
        "import pandas as pd\n",
        "\n",
        "metadata=pd.DataFrame()\n",
        "metadata['file_name']=shuffled\n",
        "metadata['label']=label\n",
        "metadata"
      ],
      "metadata": {
        "colab": {
          "base_uri": "https://localhost:8080/",
          "height": 423
        },
        "id": "fAwdGybqbQTO",
        "outputId": "168861fc-62ee-41dd-f76d-cf40e0368add"
      },
      "execution_count": null,
      "outputs": [
        {
          "output_type": "execute_result",
          "data": {
            "text/plain": [
              "                  file_name  label\n",
              "0      000000_000_00161.jpg      0\n",
              "1      000001_000_00169.jpg      0\n",
              "2      000002_013_00578.jpg     13\n",
              "3      000003_013_00586.jpg     13\n",
              "4      000004_002_00150.jpg      2\n",
              "...                     ...    ...\n",
              "15115  015115_015_00459.jpg     15\n",
              "15116  015116_009_00327.jpg      9\n",
              "15117  015117_009_00335.jpg      9\n",
              "15118  015118_009_00163.jpg      9\n",
              "15119  015119_009_00171.jpg      9\n",
              "\n",
              "[15120 rows x 2 columns]"
            ],
            "text/html": [
              "\n",
              "  <div id=\"df-d558045e-2d45-4b16-b21f-de7a1bbe16bc\">\n",
              "    <div class=\"colab-df-container\">\n",
              "      <div>\n",
              "<style scoped>\n",
              "    .dataframe tbody tr th:only-of-type {\n",
              "        vertical-align: middle;\n",
              "    }\n",
              "\n",
              "    .dataframe tbody tr th {\n",
              "        vertical-align: top;\n",
              "    }\n",
              "\n",
              "    .dataframe thead th {\n",
              "        text-align: right;\n",
              "    }\n",
              "</style>\n",
              "<table border=\"1\" class=\"dataframe\">\n",
              "  <thead>\n",
              "    <tr style=\"text-align: right;\">\n",
              "      <th></th>\n",
              "      <th>file_name</th>\n",
              "      <th>label</th>\n",
              "    </tr>\n",
              "  </thead>\n",
              "  <tbody>\n",
              "    <tr>\n",
              "      <th>0</th>\n",
              "      <td>000000_000_00161.jpg</td>\n",
              "      <td>0</td>\n",
              "    </tr>\n",
              "    <tr>\n",
              "      <th>1</th>\n",
              "      <td>000001_000_00169.jpg</td>\n",
              "      <td>0</td>\n",
              "    </tr>\n",
              "    <tr>\n",
              "      <th>2</th>\n",
              "      <td>000002_013_00578.jpg</td>\n",
              "      <td>13</td>\n",
              "    </tr>\n",
              "    <tr>\n",
              "      <th>3</th>\n",
              "      <td>000003_013_00586.jpg</td>\n",
              "      <td>13</td>\n",
              "    </tr>\n",
              "    <tr>\n",
              "      <th>4</th>\n",
              "      <td>000004_002_00150.jpg</td>\n",
              "      <td>2</td>\n",
              "    </tr>\n",
              "    <tr>\n",
              "      <th>...</th>\n",
              "      <td>...</td>\n",
              "      <td>...</td>\n",
              "    </tr>\n",
              "    <tr>\n",
              "      <th>15115</th>\n",
              "      <td>015115_015_00459.jpg</td>\n",
              "      <td>15</td>\n",
              "    </tr>\n",
              "    <tr>\n",
              "      <th>15116</th>\n",
              "      <td>015116_009_00327.jpg</td>\n",
              "      <td>9</td>\n",
              "    </tr>\n",
              "    <tr>\n",
              "      <th>15117</th>\n",
              "      <td>015117_009_00335.jpg</td>\n",
              "      <td>9</td>\n",
              "    </tr>\n",
              "    <tr>\n",
              "      <th>15118</th>\n",
              "      <td>015118_009_00163.jpg</td>\n",
              "      <td>9</td>\n",
              "    </tr>\n",
              "    <tr>\n",
              "      <th>15119</th>\n",
              "      <td>015119_009_00171.jpg</td>\n",
              "      <td>9</td>\n",
              "    </tr>\n",
              "  </tbody>\n",
              "</table>\n",
              "<p>15120 rows \u00d7 2 columns</p>\n",
              "</div>\n",
              "      <button class=\"colab-df-convert\" onclick=\"convertToInteractive('df-d558045e-2d45-4b16-b21f-de7a1bbe16bc')\"\n",
              "              title=\"Convert this dataframe to an interactive table.\"\n",
              "              style=\"display:none;\">\n",
              "        \n",
              "  <svg xmlns=\"http://www.w3.org/2000/svg\" height=\"24px\"viewBox=\"0 0 24 24\"\n",
              "       width=\"24px\">\n",
              "    <path d=\"M0 0h24v24H0V0z\" fill=\"none\"/>\n",
              "    <path d=\"M18.56 5.44l.94 2.06.94-2.06 2.06-.94-2.06-.94-.94-2.06-.94 2.06-2.06.94zm-11 1L8.5 8.5l.94-2.06 2.06-.94-2.06-.94L8.5 2.5l-.94 2.06-2.06.94zm10 10l.94 2.06.94-2.06 2.06-.94-2.06-.94-.94-2.06-.94 2.06-2.06.94z\"/><path d=\"M17.41 7.96l-1.37-1.37c-.4-.4-.92-.59-1.43-.59-.52 0-1.04.2-1.43.59L10.3 9.45l-7.72 7.72c-.78.78-.78 2.05 0 2.83L4 21.41c.39.39.9.59 1.41.59.51 0 1.02-.2 1.41-.59l7.78-7.78 2.81-2.81c.8-.78.8-2.07 0-2.86zM5.41 20L4 18.59l7.72-7.72 1.47 1.35L5.41 20z\"/>\n",
              "  </svg>\n",
              "      </button>\n",
              "      \n",
              "  <style>\n",
              "    .colab-df-container {\n",
              "      display:flex;\n",
              "      flex-wrap:wrap;\n",
              "      gap: 12px;\n",
              "    }\n",
              "\n",
              "    .colab-df-convert {\n",
              "      background-color: #E8F0FE;\n",
              "      border: none;\n",
              "      border-radius: 50%;\n",
              "      cursor: pointer;\n",
              "      display: none;\n",
              "      fill: #1967D2;\n",
              "      height: 32px;\n",
              "      padding: 0 0 0 0;\n",
              "      width: 32px;\n",
              "    }\n",
              "\n",
              "    .colab-df-convert:hover {\n",
              "      background-color: #E2EBFA;\n",
              "      box-shadow: 0px 1px 2px rgba(60, 64, 67, 0.3), 0px 1px 3px 1px rgba(60, 64, 67, 0.15);\n",
              "      fill: #174EA6;\n",
              "    }\n",
              "\n",
              "    [theme=dark] .colab-df-convert {\n",
              "      background-color: #3B4455;\n",
              "      fill: #D2E3FC;\n",
              "    }\n",
              "\n",
              "    [theme=dark] .colab-df-convert:hover {\n",
              "      background-color: #434B5C;\n",
              "      box-shadow: 0px 1px 3px 1px rgba(0, 0, 0, 0.15);\n",
              "      filter: drop-shadow(0px 1px 2px rgba(0, 0, 0, 0.3));\n",
              "      fill: #FFFFFF;\n",
              "    }\n",
              "  </style>\n",
              "\n",
              "      <script>\n",
              "        const buttonEl =\n",
              "          document.querySelector('#df-d558045e-2d45-4b16-b21f-de7a1bbe16bc button.colab-df-convert');\n",
              "        buttonEl.style.display =\n",
              "          google.colab.kernel.accessAllowed ? 'block' : 'none';\n",
              "\n",
              "        async function convertToInteractive(key) {\n",
              "          const element = document.querySelector('#df-d558045e-2d45-4b16-b21f-de7a1bbe16bc');\n",
              "          const dataTable =\n",
              "            await google.colab.kernel.invokeFunction('convertToInteractive',\n",
              "                                                     [key], {});\n",
              "          if (!dataTable) return;\n",
              "\n",
              "          const docLinkHtml = 'Like what you see? Visit the ' +\n",
              "            '<a target=\"_blank\" href=https://colab.research.google.com/notebooks/data_table.ipynb>data table notebook</a>'\n",
              "            + ' to learn more about interactive tables.';\n",
              "          element.innerHTML = '';\n",
              "          dataTable['output_type'] = 'display_data';\n",
              "          await google.colab.output.renderOutput(dataTable, element);\n",
              "          const docLink = document.createElement('div');\n",
              "          docLink.innerHTML = docLinkHtml;\n",
              "          element.appendChild(docLink);\n",
              "        }\n",
              "      </script>\n",
              "    </div>\n",
              "  </div>\n",
              "  "
            ]
          },
          "metadata": {},
          "execution_count": 16
        }
      ]
    },
    {
      "cell_type": "code",
      "source": [
        "metadata.to_csv('img_dir/train/metadata.csv',index=False)"
      ],
      "metadata": {
        "id": "178Ox8AZbQWy"
      },
      "execution_count": null,
      "outputs": []
    },
    {
      "cell_type": "code",
      "source": [
        "from datasets import load_dataset\n",
        "\n",
        "#upload shuffled training set\n",
        "dataset = load_dataset(\"imagefolder\", data_dir='img_dir')\n",
        "dataset.push_to_hub(\"Circularmachines/batch_indexing_machine_230614\")"
      ],
      "metadata": {
        "id": "HPP3oWK8uiAI"
      },
      "execution_count": null,
      "outputs": []
    },
    {
      "cell_type": "code",
      "source": [
        "\n",
        "#upload test set, I make a separate dataset to save time when loading the dataset into the web app\n",
        "dataset = load_dataset(\"imagefolder\", data_dir='content/test_imgs/')\n",
        "dataset.push_to_hub(\"Circularmachines/batch_indexing_machine_230614_test\")"
      ],
      "metadata": {
        "colab": {
          "base_uri": "https://localhost:8080/",
          "height": 347,
          "referenced_widgets": [
            "7cfab741709f44e2aa0e7c75c50bc83f",
            "7b7930e50c1544eb9fc23f2b7e04b945",
            "d45dc97cf61946e18454228a74409853",
            "93fa964514e14f20b114c59de2aa7257",
            "ba7b8bfaaa8a40d9a065eaf39a7a0657",
            "021411e45d274741941306381394d61b",
            "d402310358624a3280cdd2df18f01452",
            "89b46cf9aa2d4aa78a87621fba78472f",
            "2892537ae2c947898fd0129ee4cdc415",
            "01f6fa3888ee446b976451b0863611f4",
            "772e683ab23a42a884bdcc37f85e69b5",
            "3c9762d80507482d9cce839127ec238a",
            "9ec88c78adae4486a2eeda45c9787501",
            "876c1ccf6d7d4ad4bc6ce4606c221293",
            "d60fe226a9b04b6aaf03423bf316138b",
            "9e0dc665a065481c90fd96731bafdea7",
            "d1044072dbd34527af445803341ab056",
            "1bb56a3325674b99b03f4ad164a633a6",
            "1768b83f1736468b9506663874a24b2c",
            "e0cbc3fa505540c4a338eb5c19c27893",
            "3461ae32a412431ea60af7dd9d0b049b",
            "e8404e3a214b417ca3dd5d9c5508b23d",
            "431ea089577e41aaba28ab24480aa841",
            "367e1701a1194cff99146ac2f9e4ab14",
            "61d7b844bc8e492f9de6121509a0c172",
            "6f926a145f2f4509b15b8c2232cb010f",
            "904103f3b7874d9087142b4d876ff32e",
            "8137445367a64b768032539f69608c75",
            "ca85490d31c54f69b4656c65e35f5c56",
            "8c32a7755b5f4999ad8a17cb7c1511e6",
            "d0945ac95c7a4479a45c93f3d00fdd59",
            "f61c8eb453db49aeac724c7302c7a2de",
            "079d43a065c94701b98c98e7c6ef68e1",
            "78ab37e2e06940cca18dde3d98b3711c",
            "18a35de62e6e473f93d6de4efbe033f2",
            "b3718455b6c64aaba4c66f2842b3fbf0",
            "1ac1b2c2e31a49fe870802559e08f8a9",
            "90794bad6b8f4415963ffef6e3b9fe03",
            "15b49da41340494ba3cde18603c49829",
            "dd115a7d3426431ea03aa8057e579f89",
            "aa156e556700422d8df80c5ec351ced3",
            "7b1b01ddf0f2420684f87d02fa386e15",
            "fac4aff6a2004d4094b8f88ac5f77fc3",
            "0e20dde000eb4f24828b5fb3b29704de",
            "a07e434bc529430e827cfa21c0043718",
            "28d80f8a09604b08aa37cab90abe70b6",
            "cf80601b42894589b604974dfb0251f6",
            "67904b3e1ca04455b0192e830c242081",
            "610893f6f4c3423e96cb624f7692a3f3",
            "7af81739432a4507806e8a923f6e4548",
            "cd4c5f0bf82c48f28a13c626a7caea49",
            "69af6b40cf574550ab980a68ed3894e3",
            "a4067163240a4dffa99838e01fab2ad9",
            "f90d7d6882834ce091a2481daad89de5",
            "2221c7f1b40e407899cd2396293ec4ac",
            "cd57454d87454ac2855e99910fe6d14b",
            "d3c88df6bbc84f3787aba22904bbe947",
            "4cb66bac47e84631bb758b58c02db2d7",
            "7f08f8cb4bcb443594257e75eb73cb8d",
            "d077d0f7c400461e9689787e2f0d92ff",
            "0ee855164e2e4654b6bfd7ad578cc1a5",
            "127a7a5f549843fcbe18962ad60b9467",
            "189434d4f0fd43c7b20372c4ee862bea",
            "08d2d5de94944f9293d9967a5cce62ba",
            "9966d878ddca48c7869cec692af2e664",
            "5f4674d2d3b44a349ebbc1d31a3c2dd7",
            "94831fd35af54089bcc47ff85a38223d",
            "a1a58de2e3b24da6820b00df0e39e1c5",
            "708d508d4e5b4729a89010dd1136e738",
            "5769b40dbe7e42dda7a5f4a8ba064ee1",
            "9468b17a20a549428cb66ea9b29d0145",
            "a616dbcb4ab94f03bf400438e95989e9",
            "332f8293eafd47099fd20cd78e37f83a",
            "54a4d4cd95e34b71a98f2501f70c09e2",
            "eb9a4c64196848da8edb625399be5b51",
            "d933120cf12a42b58095e6baa678da5d",
            "b20fb464ac5047fa99eba9b465f6d738",
            "ca82132defc746688686be363f2225e2",
            "1b8177c96500404282285a857bf3ef4c",
            "64e376741c064e59ae0e85baecaedcc5",
            "7431ad6c517543cda66d157b6d587b65",
            "202999117fd041c4a9288c9b72c7678d",
            "afff69ee959044c9ba7fc05a4695dc50",
            "6ef7db3d26864665b5e009f44b544816",
            "f273d4cd0df84c15938252e3303523b4",
            "bb515dbb8e55410d90ea7ecc36f80248",
            "7027343c3eb646e8a2bfa450559eabb6",
            "a2c6ac4fa29d4fd0a7505f53ee4ecd58",
            "e08d667dee42421daa005d2b7103d130",
            "b7965c55065842129e314e8fad8a74c5",
            "a2400aaa5f0b43e18893d9f13e5d620e",
            "b8faad29383d421e9c3faa8aff5df06d",
            "967d287fa77d45ed9b2c70a5cbfea9a3",
            "ea97e8653bf74d0ca3d8642a082abdf0",
            "79f24bfaa0434b0b83fe64718cc16cb0",
            "58b2d0c1392e42b6a7d790bf26b848b5",
            "f4aeb82ce7614cc5bd4dce3c061d9ae2",
            "9a686edd65fd4473b520c1af52855b3d",
            "3ce8c77a54014315bcb46b75d6d8d6af",
            "82cacefdfb6241118f15261c90038447",
            "693edf6d3a7849a3b2e509f814a672c2",
            "3b24511d6d084d3c8602e020692f146b",
            "4b9097538bb0455faf869d9742a97a7d",
            "824826d22b004d83a23dbc8afcd379c3",
            "8d864132a4404ac985bd281f157f4d28",
            "14b24bbc50294969a8593a3142513536",
            "0aa426866d3e4ce9b4b5a51634805249",
            "4c621d25861e4e4fb311a411c7cf1676",
            "31fcbd5300c44af1b2af9238dc4daf3e",
            "920aee3c8ba646208cf3fd02ff4bccdb"
          ]
        },
        "id": "Uu1ODeKRTWTT",
        "outputId": "95373dda-31d4-4a91-e7c8-06f23fdd7de4"
      },
      "execution_count": null,
      "outputs": [
        {
          "output_type": "display_data",
          "data": {
            "text/plain": [
              "Resolving data files:   0%|          | 0/420 [00:00<?, ?it/s]"
            ],
            "application/vnd.jupyter.widget-view+json": {
              "version_major": 2,
              "version_minor": 0,
              "model_id": "7cfab741709f44e2aa0e7c75c50bc83f"
            }
          },
          "metadata": {}
        },
        {
          "output_type": "stream",
          "name": "stdout",
          "text": [
            "Downloading and preparing dataset imagefolder/default to /root/.cache/huggingface/datasets/imagefolder/default-60a0599f882057d5/0.0.0/37fbb85cc714a338bea574ac6c7d0b5be5aff46c1862c1989b20e0771199e93f...\n"
          ]
        },
        {
          "output_type": "display_data",
          "data": {
            "text/plain": [
              "Downloading data files:   0%|          | 0/420 [00:00<?, ?it/s]"
            ],
            "application/vnd.jupyter.widget-view+json": {
              "version_major": 2,
              "version_minor": 0,
              "model_id": "3c9762d80507482d9cce839127ec238a"
            }
          },
          "metadata": {}
        },
        {
          "output_type": "display_data",
          "data": {
            "text/plain": [
              "Downloading data files: 0it [00:00, ?it/s]"
            ],
            "application/vnd.jupyter.widget-view+json": {
              "version_major": 2,
              "version_minor": 0,
              "model_id": "431ea089577e41aaba28ab24480aa841"
            }
          },
          "metadata": {}
        },
        {
          "output_type": "display_data",
          "data": {
            "text/plain": [
              "Extracting data files: 0it [00:00, ?it/s]"
            ],
            "application/vnd.jupyter.widget-view+json": {
              "version_major": 2,
              "version_minor": 0,
              "model_id": "78ab37e2e06940cca18dde3d98b3711c"
            }
          },
          "metadata": {}
        },
        {
          "output_type": "display_data",
          "data": {
            "text/plain": [
              "Generating test split: 0 examples [00:00, ? examples/s]"
            ],
            "application/vnd.jupyter.widget-view+json": {
              "version_major": 2,
              "version_minor": 0,
              "model_id": "a07e434bc529430e827cfa21c0043718"
            }
          },
          "metadata": {}
        },
        {
          "output_type": "stream",
          "name": "stdout",
          "text": [
            "Dataset imagefolder downloaded and prepared to /root/.cache/huggingface/datasets/imagefolder/default-60a0599f882057d5/0.0.0/37fbb85cc714a338bea574ac6c7d0b5be5aff46c1862c1989b20e0771199e93f. Subsequent calls will reuse this data.\n"
          ]
        },
        {
          "output_type": "display_data",
          "data": {
            "text/plain": [
              "  0%|          | 0/1 [00:00<?, ?it/s]"
            ],
            "application/vnd.jupyter.widget-view+json": {
              "version_major": 2,
              "version_minor": 0,
              "model_id": "cd57454d87454ac2855e99910fe6d14b"
            }
          },
          "metadata": {}
        },
        {
          "output_type": "stream",
          "name": "stderr",
          "text": [
            "WARNING:datasets.dataset_dict:Pushing split test to the Hub.\n"
          ]
        },
        {
          "output_type": "display_data",
          "data": {
            "text/plain": [
              "Map:   0%|          | 0/420 [00:00<?, ? examples/s]"
            ],
            "application/vnd.jupyter.widget-view+json": {
              "version_major": 2,
              "version_minor": 0,
              "model_id": "94831fd35af54089bcc47ff85a38223d"
            }
          },
          "metadata": {}
        },
        {
          "output_type": "display_data",
          "data": {
            "text/plain": [
              "Pushing dataset shards to the dataset hub:   0%|          | 0/1 [00:00<?, ?it/s]"
            ],
            "application/vnd.jupyter.widget-view+json": {
              "version_major": 2,
              "version_minor": 0,
              "model_id": "ca82132defc746688686be363f2225e2"
            }
          },
          "metadata": {}
        },
        {
          "output_type": "display_data",
          "data": {
            "text/plain": [
              "Creating parquet from Arrow format:   0%|          | 0/5 [00:00<?, ?ba/s]"
            ],
            "application/vnd.jupyter.widget-view+json": {
              "version_major": 2,
              "version_minor": 0,
              "model_id": "e08d667dee42421daa005d2b7103d130"
            }
          },
          "metadata": {}
        },
        {
          "output_type": "display_data",
          "data": {
            "text/plain": [
              "Upload 1 LFS files:   0%|          | 0/1 [00:00<?, ?it/s]"
            ],
            "application/vnd.jupyter.widget-view+json": {
              "version_major": 2,
              "version_minor": 0,
              "model_id": "82cacefdfb6241118f15261c90038447"
            }
          },
          "metadata": {}
        }
      ]
    }
  ],
  "metadata": {
    "colab": {
      "machine_shape": "hm",
      "provenance": [],
      "gpuClass": "premium",
      "authorship_tag": "ABX9TyMrBHMEEgL52m0aq9aG9lBD",
      "include_colab_link": true
    },
    "gpuClass": "premium",
    "kernelspec": {
      "display_name": "Python 3",
      "name": "python3"
    },
    "language_info": {
      "name": "python"
    }
  },
  "nbformat": 4,
  "nbformat_minor": 0
}